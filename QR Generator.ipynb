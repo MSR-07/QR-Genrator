{
 "cells": [
  {
   "cell_type": "code",
   "execution_count": 1,
   "id": "8c69d8d9",
   "metadata": {},
   "outputs": [
    {
     "name": "stdout",
     "output_type": "stream",
     "text": [
      "Collecting qrcode\n",
      "  Downloading qrcode-7.3.1.tar.gz (43 kB)\n",
      "     -------------------------------------- 43.5/43.5 kB 707.6 kB/s eta 0:00:00\n",
      "  Preparing metadata (setup.py): started\n",
      "  Preparing metadata (setup.py): finished with status 'done'\n",
      "Requirement already satisfied: colorama in c:\\users\\saif\\appdata\\local\\programs\\python\\python310\\lib\\site-packages (from qrcode) (0.4.4)\n",
      "Building wheels for collected packages: qrcode\n",
      "  Building wheel for qrcode (setup.py): started\n",
      "  Building wheel for qrcode (setup.py): finished with status 'done'\n",
      "  Created wheel for qrcode: filename=qrcode-7.3.1-py3-none-any.whl size=40401 sha256=a0f6fcde8235aa14d2be9c4de02b5f2849451087a9c9d161932d0f45c9442630\n",
      "  Stored in directory: c:\\users\\saif\\appdata\\local\\pip\\cache\\wheels\\23\\19\\46\\913659e1fa8df0e197598601997735938c703cac15d98a6e6d\n",
      "Successfully built qrcode\n",
      "Installing collected packages: qrcode\n",
      "Successfully installed qrcode-7.3.1\n",
      "\n",
      "[notice] A new release of pip available: 22.1.2 -> 22.3.1\n",
      "[notice] To update, run: python.exe -m pip install --upgrade pip\n"
     ]
    }
   ],
   "source": [
    "# !pip install qrcode"
   ]
  },
  {
   "cell_type": "code",
   "execution_count": 2,
   "id": "18e76407",
   "metadata": {},
   "outputs": [],
   "source": [
    "import qrcode"
   ]
  },
  {
   "cell_type": "code",
   "execution_count": 4,
   "id": "535d2eb8",
   "metadata": {},
   "outputs": [],
   "source": [
    "img = qrcode.make(\"https://github.com/MSR-07\")\n",
    "img.save(\"gitQr.png\")\n",
    "img.show()"
   ]
  },
  {
   "cell_type": "code",
   "execution_count": null,
   "id": "64443845",
   "metadata": {},
   "outputs": [],
   "source": []
  }
 ],
 "metadata": {
  "kernelspec": {
   "display_name": "Python 3",
   "language": "python",
   "name": "python3"
  },
  "language_info": {
   "codemirror_mode": {
    "name": "ipython",
    "version": 3
   },
   "file_extension": ".py",
   "mimetype": "text/x-python",
   "name": "python",
   "nbconvert_exporter": "python",
   "pygments_lexer": "ipython3",
   "version": "3.10.1"
  },
  "vscode": {
   "interpreter": {
    "hash": "ccf5ee4714193cc84016d40695d1a864d91a80038639be94bc3daf0c5208a6da"
   }
  }
 },
 "nbformat": 4,
 "nbformat_minor": 5
}
